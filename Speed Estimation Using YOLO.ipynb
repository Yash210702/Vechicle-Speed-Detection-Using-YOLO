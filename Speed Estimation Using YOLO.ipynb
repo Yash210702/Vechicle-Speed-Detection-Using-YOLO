{
  "nbformat": 4,
  "nbformat_minor": 0,
  "metadata": {
    "colab": {
      "provenance": []
    },
    "kernelspec": {
      "name": "python3",
      "display_name": "Python 3"
    },
    "language_info": {
      "name": "python"
    }
  },
  "cells": [
    {
      "cell_type": "code",
      "execution_count": null,
      "metadata": {
        "id": "C0dqGvSas71J"
      },
      "outputs": [],
      "source": [
        "from google.colab import drive\n",
        "drive.mount('/content/drive')"
      ]
    },
    {
      "cell_type": "code",
      "source": [
        "import math\n",
        "\n",
        "\n",
        "class Tracker:\n",
        "    def __init__(self):\n",
        "        # Store the center positions of the objects\n",
        "        self.center_points = {}\n",
        "        # Keep the count of the IDs\n",
        "        # each time a new object id detected, the count will increase by one\n",
        "        self.id_count = 0\n",
        "\n",
        "\n",
        "    def update(self, objects_rect):\n",
        "        # Objects boxes and ids\n",
        "        objects_bbs_ids = []\n",
        "\n",
        "        # Get center point of new object\n",
        "        for rect in objects_rect:\n",
        "            x, y, w, h = rect\n",
        "            cx = (x + x + w) // 2\n",
        "            cy = (y + y + h) // 2\n",
        "\n",
        "            # Find out if that object was detected already\n",
        "            same_object_detected = False\n",
        "            for id, pt in self.center_points.items():\n",
        "                dist = math.hypot(cx - pt[0], cy - pt[1])\n",
        "\n",
        "                if dist < 35:\n",
        "                    self.center_points[id] = (cx, cy)\n",
        "#                    print(self.center_points)\n",
        "                    objects_bbs_ids.append([x, y, w, h, id])\n",
        "                    same_object_detected = True\n",
        "                    break\n",
        "\n",
        "            # New object is detected we assign the ID to that object\n",
        "            if same_object_detected is False:\n",
        "                self.center_points[self.id_count] = (cx, cy)\n",
        "                objects_bbs_ids.append([x, y, w, h, self.id_count])\n",
        "                self.id_count += 1\n",
        "\n",
        "        # Clean the dictionary by center points to remove IDS not used anymore\n",
        "        new_center_points = {}\n",
        "        for obj_bb_id in objects_bbs_ids:\n",
        "            _, _, _, _, object_id = obj_bb_id\n",
        "            center = self.center_points[object_id]\n",
        "            new_center_points[object_id] = center\n",
        "\n",
        "        # Update dictionary with IDs not used removed\n",
        "        self.center_points = new_center_points.copy()\n",
        "        return objects_bbs_ids"
      ],
      "metadata": {
        "id": "jJVpMJ9ptBAp"
      },
      "execution_count": null,
      "outputs": []
    },
    {
      "cell_type": "code",
      "source": [
        "!pip install ultralytics"
      ],
      "metadata": {
        "id": "wWI0jCE6tAsh"
      },
      "execution_count": null,
      "outputs": []
    },
    {
      "cell_type": "code",
      "source": [
        "import cv2\n",
        "import pandas as pd\n",
        "from ultralytics import YOLO\n",
        "model=YOLO('yolov8s.pt')"
      ],
      "metadata": {
        "id": "wuZONY33tAgo"
      },
      "execution_count": null,
      "outputs": []
    },
    {
      "cell_type": "code",
      "source": [
        "class_list = ['person', 'bicycle', 'car', 'motorcycle', 'airplane', 'bus', 'train', 'truck', 'boat', 'traffic light', 'fire hydrant', 'stop sign', 'parking meter', 'bench', 'bird', 'cat', 'dog', 'horse', 'sheep', 'cow', 'elephant', 'bear', 'zebra', 'giraffe', 'backpack', 'umbrella', 'handbag', 'tie', 'suitcase', 'frisbee', 'skis', 'snowboard', 'sports ball', 'kite', 'baseball bat', 'baseball glove', 'skateboard', 'surfboard', 'tennis racket', 'bottle', 'wine glass', 'cup', 'fork', 'knife', 'spoon', 'bowl', 'banana', 'apple', 'sandwich', 'orange', 'broccoli', 'carrot', 'hot dog', 'pizza', 'donut', 'cake', 'chair', 'couch', 'potted plant', 'bed', 'dining table', 'toilet', 'tv', 'laptop', 'mouse', 'remote', 'keyboard', 'cell phone', 'microwave', 'oven',\n",
        "              'toaster', 'sink', 'refrigerator', 'book', 'clock', 'vase', 'scissors', 'teddy bear', 'hair drier', 'toothbrush']"
      ],
      "metadata": {
        "id": "UF0h_BfXtMiE"
      },
      "execution_count": null,
      "outputs": []
    },
    {
      "cell_type": "code",
      "source": [
        "tracker=Tracker()\n",
        "count=0"
      ],
      "metadata": {
        "id": "347S6ZgitMO0"
      },
      "execution_count": null,
      "outputs": []
    },
    {
      "cell_type": "code",
      "source": [
        "cap=cv2.VideoCapture('/content/drive/MyDrive/major project/Speed-detection-of-vehicles-main-20240220T205359Z-001/Speed-detection-of-vehicles-main/highway.mp4')"
      ],
      "metadata": {
        "id": "hDshTp_ctMDG"
      },
      "execution_count": null,
      "outputs": []
    },
    {
      "cell_type": "code",
      "source": [
        "import os"
      ],
      "metadata": {
        "id": "I4oc6ikMtAWC"
      },
      "execution_count": null,
      "outputs": []
    },
    {
      "cell_type": "code",
      "source": [
        "from google.colab.patches import cv2_imshow"
      ],
      "metadata": {
        "id": "PP1jvDHgtANJ"
      },
      "execution_count": null,
      "outputs": []
    },
    {
      "cell_type": "code",
      "source": [
        "import time"
      ],
      "metadata": {
        "id": "PNUaKCHBtT_i"
      },
      "execution_count": null,
      "outputs": []
    },
    {
      "cell_type": "code",
      "source": [
        "down = {}\n",
        "up = {}\n",
        "counter_down = []\n",
        "counter_up = []\n",
        "\n",
        "red_line_y = 198\n",
        "blue_line_y = 268\n",
        "offset = 6\n",
        "\n",
        "# Create a folder to save frames\n",
        "if not os.path.exists('detected_frames'):\n",
        "    os.makedirs('detected_frames')\n",
        "\n",
        "fourcc = cv2.VideoWriter_fourcc(*'XVID')\n",
        "out = cv2.VideoWriter('/content/drive/MyDrive/major project/Speed-detection-of-vehicles-main-20240220T205359Z-001/Speed-detection-of-vehicles-main/output.avi', fourcc, 20.0, (1020, 500))\n",
        "\n",
        "while True:\n",
        "    ret, frame = cap.read()\n",
        "    if not ret:\n",
        "        break\n",
        "    count += 1\n",
        "    # if count % 2 != 0:\n",
        "    #     continue\n",
        "    frame = cv2.resize(frame, (1020, 500))\n",
        "\n",
        "    results = model.predict(frame)\n",
        "    a = results[0].boxes.data\n",
        "    a = a.detach().cpu().numpy()\n",
        "    px = pd.DataFrame(a).astype(\"float\")\n",
        "    list = []\n",
        "\n",
        "    for index, row in px.iterrows():\n",
        "        x1 = int(row[0])\n",
        "        y1 = int(row[1])\n",
        "        x2 = int(row[2])\n",
        "        y2 = int(row[3])\n",
        "        d = int(row[5])\n",
        "        c = class_list[d]\n",
        "        if 'car' in c:\n",
        "            list.append([x1, y1, x2, y2])\n",
        "    bbox_id = tracker.update(list)\n",
        "\n",
        "    for bbox in bbox_id:\n",
        "        x3, y3, x4, y4, id = bbox\n",
        "        cx = int(x3 + x4) // 2\n",
        "        cy = int(y3 + y4) // 2\n",
        "\n",
        "        if red_line_y<(cy+offset) and red_line_y > (cy-offset):\n",
        "           down[id]=time.time()   # current time when vehichle touch the first line\n",
        "        if id in down:\n",
        "\n",
        "           if blue_line_y<(cy+offset) and blue_line_y > (cy-offset):\n",
        "             elapsed_time=time.time() - down[id]  # current time when vehicle touch the second line. Also we a re minusing the previous time ( current time of line 1)\n",
        "             if counter_down.count(id)==0:\n",
        "                counter_down.append(id)\n",
        "                distance = 10 # meters\n",
        "                a_speed_ms = distance / elapsed_time\n",
        "                a_speed_kh = a_speed_ms * 3.6  # this will give kilometers per hour for each vehicle. This is the condition for going downside\n",
        "                cv2.circle(frame,(cx,cy),4,(0,0,255),-1)\n",
        "                cv2.rectangle(frame, (x3, y3), (x4, y4), (0, 255, 0), 2)  # Draw bounding box\n",
        "                cv2.putText(frame,str(id),(x3,y3),cv2.FONT_HERSHEY_COMPLEX,0.6,(255,255,255),1)\n",
        "                cv2.putText(frame,str(int(a_speed_kh))+'Km/h',(x4,y4 ),cv2.FONT_HERSHEY_COMPLEX,0.8,(0,255,255),2)\n",
        "\n",
        "\n",
        "        #####going UP blue line#####\n",
        "        if blue_line_y<(cy+offset) and blue_line_y > (cy-offset):\n",
        "           up[id]=time.time()\n",
        "        if id in up:\n",
        "\n",
        "           if red_line_y<(cy+offset) and red_line_y > (cy-offset):\n",
        "             elapsed1_time=time.time() - up[id]\n",
        "             # formula of speed= distance/time\n",
        "             if counter_up.count(id)==0:\n",
        "                counter_up.append(id)\n",
        "                distance1 = 10 # meters  (Distance between the 2 lines is 10 meters )\n",
        "                a_speed_ms1 = distance1 / elapsed1_time\n",
        "                a_speed_kh1 = a_speed_ms1 * 3.6\n",
        "                cv2.circle(frame,(cx,cy),4,(0,0,255),-1)\n",
        "                cv2.rectangle(frame, (x3, y3), (x4, y4), (0, 255, 0), 2)  # Draw bounding box\n",
        "                cv2.putText(frame,str(id),(x3,y3),cv2.FONT_HERSHEY_COMPLEX,0.6,(255,255,255),1)\n",
        "                cv2.putText(frame,str(int(a_speed_kh1))+'Km/h',(x4,y4),cv2.FONT_HERSHEY_COMPLEX,0.8,(0,255,255),2)\n",
        "\n",
        "\n",
        "\n",
        "\n",
        "    text_color = (0, 0, 0)  # Black color for text\n",
        "    yellow_color = (0, 255, 255)  # Yellow color for background\n",
        "    red_color = (0, 0, 255)  # Red color for lines\n",
        "    blue_color = (255, 0, 0)  # Blue color for lines\n",
        "\n",
        "    cv2.rectangle(frame, (0, 0), (250, 90), yellow_color, -1)\n",
        "\n",
        "    cv2.line(frame, (172, 198), (774, 198), red_color, 2)\n",
        "    cv2.putText(frame, ('Red Line'), (172, 198), cv2.FONT_HERSHEY_SIMPLEX, 0.5, text_color, 1, cv2.LINE_AA)\n",
        "\n",
        "    cv2.line(frame, (8, 268), (927, 268), blue_color, 2)\n",
        "    cv2.putText(frame, ('Blue Line'), (8, 268), cv2.FONT_HERSHEY_SIMPLEX, 0.5, text_color, 1, cv2.LINE_AA)\n",
        "\n",
        "    cv2.putText(frame, ('Going Down - ' + str(len(counter_down))), (10, 30), cv2.FONT_HERSHEY_SIMPLEX, 0.5, text_color, 1, cv2.LINE_AA)\n",
        "    cv2.putText(frame, ('Going Up - ' + str(len(counter_up))), (10, 60), cv2.FONT_HERSHEY_SIMPLEX, 0.5, text_color, 1, cv2.LINE_AA)\n",
        "\n",
        "    # Save frame\n",
        "    frame_filename = f'detected_frames/frame_{count}.jpg'\n",
        "    cv2.imwrite(frame_filename, frame)\n",
        "\n",
        "    out.write(frame)\n",
        "\n",
        "    cv2_imshow(frame)\n",
        "    if cv2.waitKey(1) & 0xFF == 27:\n",
        "    #if cv2.waitKey(0) & 0xFF == 27:\n",
        "        break\n",
        "\n",
        "cap.release()\n",
        "out.release()\n",
        "cv2.destroyAllWindows()\n"
      ],
      "metadata": {
        "id": "79z9-gWTtTyH"
      },
      "execution_count": null,
      "outputs": []
    }
  ]
}